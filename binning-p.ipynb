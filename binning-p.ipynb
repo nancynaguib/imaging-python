{
 "cells": [
  {
   "cell_type": "markdown",
   "metadata": {},
   "source": [
    "## This notebook is used to bin the images dataset (fits type) to n images"
   ]
  },
  {
   "cell_type": "code",
   "execution_count": 7,
   "metadata": {},
   "outputs": [],
   "source": [
    "import os, fnmatch\n",
    "import numpy  as np\n",
    "import pylab\n",
    "import scipy\n",
    "import pyfits\n",
    "from os import listdir\n",
    "from astropy.io import fits"
   ]
  },
  {
   "cell_type": "code",
   "execution_count": 18,
   "metadata": {},
   "outputs": [
    {
     "name": "stdout",
     "output_type": "stream",
     "text": [
      "write the path of folders needed to be binned= (do not include the )/Oct-Japan/563_SENJU_Oct2018_Robin/1_test/\n",
      "write the path where the folders to be saved= (do not include the )/Oct-Japan/563_SENJU_Oct2018_Robin/bin_test/\n",
      "write the number of the binning (i.e. 2 or 3 ... so the set will be divided into 2 or 3 groups))5\n",
      "/Oct-Japan/563_SENJU_Oct2018_Robin/1_test/\n"
     ]
    }
   ],
   "source": [
    "rootpath= input(\"write the path of folders needed to be binned= (do not include the \" \")\")\n",
    "binpath = input(\"write the path where the folders to be saved= (do not include the \" \")\")\n",
    "number = input('write the number of the binning (i.e. 2 or 3 ... so the set will be divided into 2 or 3 groups))')\n",
    "print(rootpath)"
   ]
  },
  {
   "cell_type": "code",
   "execution_count": 2,
   "metadata": {},
   "outputs": [],
   "source": [
    "# rootpath= \"/Oct-Japan/563_SENJU_Oct2018_Robin/1_test/\"\n",
    "# binpath= \"/Oct-Japan/563_SENJU_Oct2018_Robin/bin_test/\""
   ]
  },
  {
   "cell_type": "code",
   "execution_count": 19,
   "metadata": {
    "scrolled": true
   },
   "outputs": [
    {
     "name": "stdout",
     "output_type": "stream",
     "text": [
      "187\n",
      "['#0', '#1', '#10', '#100', '#101', '#102', '#103', '#104', '#105', '#106', '#107', '#108', '#109', '#11', '#110', '#111', '#112', '#113', '#114', '#115', '#116', '#117', '#118', '#119', '#12', '#120', '#121', '#122', '#123', '#124', '#125', '#126', '#127', '#128', '#129', '#13', '#130', '#131', '#132', '#133', '#134', '#135', '#136', '#137', '#138', '#139', '#14', '#140', '#141', '#142', '#143', '#144', '#145', '#146', '#147', '#148', '#149', '#15', '#150', '#151', '#152', '#153', '#154', '#155', '#156', '#157', '#158', '#159', '#16', '#160', '#161', '#162', '#163', '#164', '#165', '#166', '#167', '#168', '#169', '#17', '#170', '#171', '#172', '#173', '#174', '#175', '#18', '#182', '#183', '#184', '#184_afterShortBeamResume_3799of7200', '#185', '#186', '#187', '#188', '#189', '#19', '#190', '#191', '#192', '#193', '#2', '#20', '#21', '#22', '#23', '#24', '#25', '#26', '#27', '#28', '#29', '#3', '#30', '#31', '#32', '#33', '#34', '#35', '#36', '#37', '#38', '#39', '#4', '#40', '#41', '#42', '#43', '#44', '#45', '#46', '#47', '#48', '#49', '#5', '#50', '#51', '#52', '#53', '#54', '#55', '#56', '#57', '#58', '#59', '#6', '#60', '#61', '#62', '#63', '#64_NiTi-PreScan', '#65', '#66', '#67', '#68', '#69', '#7', '#70', '#71', '#72', '#73', '#74', '#75', '#76', '#77', '#78', '#79', '#80', '#81', '#82', '#83', '#84', '#85', '#86', '#87', '#88', '#89', '#90', '#91', '#92', '#93', '#94', '#95', '#96', '#97', '#98', '#99']\n",
      "#98\n"
     ]
    }
   ],
   "source": [
    "coll_dir_root = fnmatch.filter(listdir(rootpath),'#*')\n",
    "print(len(coll_dir_root))\n",
    "print(coll_dir_root)\n",
    "print((coll_dir_root[185]))"
   ]
  },
  {
   "cell_type": "code",
   "execution_count": null,
   "metadata": {},
   "outputs": [
    {
     "name": "stdout",
     "output_type": "stream",
     "text": [
      "/Oct-Japan/563_SENJU_Oct2018_Robin/1_test/#98/Corrected/\n",
      "/Oct-Japan/563_SENJU_Oct2018_Robin/bin_test/#98_bin_python/\n",
      "<class 'int'>\n"
     ]
    },
    {
     "name": "stderr",
     "output_type": "stream",
     "text": [
      "E:\\Anaconda3\\lib\\site-packages\\pyfits\\util.py:899: UserWarning: Could not find appropriate MS Visual C Runtime library or library is corrupt/misconfigured; cannot determine whether your file object was opened in append mode.  Please consider using a file object opened in write mode instead.\n",
      "  'Could not find appropriate MS Visual C Runtime '\n"
     ]
    },
    {
     "name": "stdout",
     "output_type": "stream",
     "text": [
      "/Oct-Japan/563_SENJU_Oct2018_Robin/1_test/#99/Corrected/\n",
      "/Oct-Japan/563_SENJU_Oct2018_Robin/bin_test/#99_bin_python/\n",
      "<class 'int'>\n"
     ]
    }
   ],
   "source": [
    "# make 2373 to 2370 images\n",
    "bin_number=int(number)\n",
    "\n",
    "for i in range (185, len(coll_dir_root)):\n",
    "    savepath= binpath+str(coll_dir_root[i])+'_bin_python/'\n",
    "    if not os.path.exists(savepath):\n",
    "        os.makedirs(savepath)\n",
    "        \n",
    "    datapath= rootpath+str(coll_dir_root[i])+'/Corrected/'\n",
    "    print(datapath)\n",
    "    print(savepath)\n",
    "    current_dir = fnmatch.filter(listdir(datapath),'*.fits')    #to read originial fits\n",
    "    sorted_dir = sorted(current_dir)\n",
    "    summed=np.zeros([512,512], dtype='>f4')\n",
    "    print(type(len(sorted_dir)))\n",
    "    \n",
    "    for k in range (0,(len(sorted_dir)-3)):\n",
    "\n",
    "        unbin=datapath+sorted_dir[k]\n",
    "        im=fits.open(unbin)\n",
    "        im_data=im[0].data\n",
    "        summed=summed+ im_data\n",
    "        for n in range (0,int(len(sorted_dir)/bin_number)):\n",
    "            if (k==((n*bin_number)-1)): \n",
    "                avg=summed/bin_number\n",
    "                fitpath= savepath+sorted_dir[k]\n",
    "                pyfits.writeto(fitpath, avg,clobber= True)\n",
    "                summed=np.zeros([512,512], dtype='>f4')"
   ]
  },
  {
   "cell_type": "code",
   "execution_count": null,
   "metadata": {},
   "outputs": [],
   "source": []
  }
 ],
 "metadata": {
  "kernelspec": {
   "display_name": "Python 3",
   "language": "python",
   "name": "python3"
  },
  "language_info": {
   "codemirror_mode": {
    "name": "ipython",
    "version": 3
   },
   "file_extension": ".py",
   "mimetype": "text/x-python",
   "name": "python",
   "nbconvert_exporter": "python",
   "pygments_lexer": "ipython3",
   "version": "3.7.1"
  }
 },
 "nbformat": 4,
 "nbformat_minor": 2
}
