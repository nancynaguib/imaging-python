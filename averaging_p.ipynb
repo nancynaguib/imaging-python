{
 "cells": [
  {
   "cell_type": "markdown",
   "metadata": {},
   "source": [
    "## This notebook is used for averaging all radiographs "
   ]
  },
  {
   "cell_type": "code",
   "execution_count": null,
   "metadata": {},
   "outputs": [],
   "source": [
    "from PIL import Image\n",
    "import os, fnmatch\n",
    "import numpy  as np\n",
    "%matplotlib inline\n",
    "%matplotlib notebook\n",
    "import pylab\n",
    "import scipy\n",
    "import pyfits\n",
    "from os import listdir\n",
    "from astropy.io import fits"
   ]
  },
  {
   "cell_type": "code",
   "execution_count": null,
   "metadata": {},
   "outputs": [],
   "source": [
    "rootpath= input('write the path of folders needed to be averaged= (do not include the \" \")')"
   ]
  },
  {
   "cell_type": "code",
   "execution_count": null,
   "metadata": {},
   "outputs": [],
   "source": [
    "savepath=rootpath+'S3_average-all/'\n",
    "print(rootpath)\n",
    "print(savepath)"
   ]
  },
  {
   "cell_type": "code",
   "execution_count": null,
   "metadata": {},
   "outputs": [],
   "source": [
    "if not os.path.exists(savepath):\n",
    "    os.makedirs(savepath)"
   ]
  },
  {
   "cell_type": "code",
   "execution_count": null,
   "metadata": {},
   "outputs": [],
   "source": [
    "coll_dir = fnmatch.filter(listdir(rootpath),'*bin_python')\n",
    "print('the number of radiographs to average=',len(coll_dir))\n",
    "current_dir=[]"
   ]
  },
  {
   "cell_type": "code",
   "execution_count": null,
   "metadata": {},
   "outputs": [],
   "source": [
    "# define paths of the folders to be averaged\n",
    "\n",
    "for k in range(0, len(coll_dir)): # instead of 20 it should be len(coll_dir), number of radiographs\n",
    "    path= rootpath+coll_dir[k]+'/' # identify the path name (string)\n",
    "    print(path)\n",
    "    curr_dir = fnmatch.filter(listdir(path),'*.fits') # read fits files (list) for the first folder in the list of images (one radiograph)"
   ]
  },
  {
   "cell_type": "code",
   "execution_count": null,
   "metadata": {},
   "outputs": [],
   "source": [
    "for j in range(0, len(curr_dir)): \n",
    "        img = np.zeros([512,512],dtype='>f4')\n",
    "        avg_img = np.zeros([512,512], dtype='>f4')\n",
    "        for i in range(0, (len(coll_dir)-1)):\n",
    "            path= rootpath+coll_dir[i]+'/'\n",
    "#             print(path)\n",
    "            curr_dir = fnmatch.filter(listdir(path),'*.fits')\n",
    "            name=path+curr_dir[j]\n",
    "#             print(name)\n",
    "            name_dir = name.split(\".\")\n",
    "            name_s = name_dir[0].split(\"/\")\n",
    "            name_sa = name_s[-1].split(\"_\")\n",
    "            name_save=name_sa[0]+'_'+name_sa[1]\n",
    "#             print(name_save)\n",
    "            with fits.open(name) as im:\n",
    "                data=im[0].data\n",
    "                img=img+data\n",
    "        avg_img= np.true_divide(img,(i+1))\n",
    "        pyfits.writeto(savepath+'S3_avg_img_'+ name_save+'_'+str(f\"{j:03}\")+'.fits', avg_img)\n",
    "#         pyfits.writeto(savedir+'S2_avg_img_'+ name_save+'_'+str(f\"{j:03}\")+'.fits', img)\n",
    "        print(savepath+'S3_avg_img_'+ name_save+'_'+str(f\"{j:03}\")+'.fits')"
   ]
  }
 ],
 "metadata": {
  "kernelspec": {
   "display_name": "Python 3",
   "language": "python",
   "name": "python3"
  },
  "language_info": {
   "codemirror_mode": {
    "name": "ipython",
    "version": 3
   },
   "file_extension": ".py",
   "mimetype": "text/x-python",
   "name": "python",
   "nbconvert_exporter": "python",
   "pygments_lexer": "ipython3",
   "version": "3.7.1"
  }
 },
 "nbformat": 4,
 "nbformat_minor": 2
}
