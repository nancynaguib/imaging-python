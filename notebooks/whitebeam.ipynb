{
 "cells": [
  {
   "cell_type": "markdown",
   "metadata": {},
   "source": [
    "## This notebook is used for creating the white beam (average) for all tomography folders \n",
    "i.e. for one stress state"
   ]
  },
  {
   "cell_type": "code",
   "execution_count": 1,
   "metadata": {},
   "outputs": [
    {
     "name": "stderr",
     "output_type": "stream",
     "text": [
      "E:\\Anaconda3\\lib\\site-packages\\pyfits\\__init__.py:22: PyFITSDeprecationWarning: PyFITS is deprecated, please use astropy.io.fits\n",
      "  PyFITSDeprecationWarning)  # noqa\n"
     ]
    }
   ],
   "source": [
    "import os, fnmatch\n",
    "# import sys\n",
    "import numpy  as np\n",
    "# %matplotlib inline\n",
    "%matplotlib notebook\n",
    "import pylab\n",
    "import scipy\n",
    "import pyfits\n",
    "from os import listdir\n",
    "from astropy.io import fits\n",
    "# import cv2"
   ]
  },
  {
   "cell_type": "code",
   "execution_count": 108,
   "metadata": {},
   "outputs": [
    {
     "name": "stdout",
     "output_type": "stream",
     "text": [
      "write the initial of folder needed to be averaged i.e. S2_bin or OB2 = (do not include the \" \")S1_bin\n"
     ]
    }
   ],
   "source": [
    "a = input('write the initial of folder needed to be averaged i.e. S2_bin or OB2 = (do not include the \" \")')"
   ]
  },
  {
   "cell_type": "code",
   "execution_count": 109,
   "metadata": {},
   "outputs": [
    {
     "name": "stdout",
     "output_type": "stream",
     "text": [
      "/Oct-Japan/563_SENJU_Oct2018_Robin/bin_test/tomography/masked_tomo_datapath/S1_bin_corrected/\n",
      "/Oct-Japan/563_SENJU_Oct2018_Robin/bin_test/tomography/masked_tomo_datapath/whitebeam/S1/\n"
     ]
    }
   ],
   "source": [
    "name_file= a.split(\"_\")\n",
    "name_f=name_file[0]\n",
    "rootpath= \"/Oct-Japan/563_SENJU_Oct2018_Robin/bin_test/tomography/masked_tomo_datapath/\"\n",
    "datapath= rootpath + a+ \"_corrected/\"\n",
    "whitebeampath=rootpath+'whitebeam/'+name_f+\"/\"\n",
    "# whitebeampath_bef=rootpath+'whitebeam_bef/'+name_file[0]+\"_bef/\"\n",
    "print(datapath)\n",
    "print(whitebeampath)"
   ]
  },
  {
   "cell_type": "code",
   "execution_count": 110,
   "metadata": {},
   "outputs": [
    {
     "name": "stdout",
     "output_type": "stream",
     "text": [
      "the number of radiographs to average= 47\n"
     ]
    }
   ],
   "source": [
    "coll_dir = fnmatch.filter(listdir(datapath),'*')\n",
    "print('the number of radiographs to average=',len(coll_dir))\n",
    "current_dir=[]\n",
    "# savedir=savepath+'S2/'\n",
    "# print(savedir)"
   ]
  },
  {
   "cell_type": "code",
   "execution_count": 111,
   "metadata": {},
   "outputs": [
    {
     "name": "stdout",
     "output_type": "stream",
     "text": [
      "/Oct-Japan/563_SENJU_Oct2018_Robin/bin_test/tomography/masked_tomo_datapath/S1_bin_corrected/13_bin_python/\n",
      "/Oct-Japan/563_SENJU_Oct2018_Robin/bin_test/tomography/masked_tomo_datapath/S1_bin_corrected/14_bin_python/\n",
      "/Oct-Japan/563_SENJU_Oct2018_Robin/bin_test/tomography/masked_tomo_datapath/S1_bin_corrected/15_bin_python/\n",
      "/Oct-Japan/563_SENJU_Oct2018_Robin/bin_test/tomography/masked_tomo_datapath/S1_bin_corrected/16_bin_python/\n",
      "/Oct-Japan/563_SENJU_Oct2018_Robin/bin_test/tomography/masked_tomo_datapath/S1_bin_corrected/17_bin_python/\n",
      "/Oct-Japan/563_SENJU_Oct2018_Robin/bin_test/tomography/masked_tomo_datapath/S1_bin_corrected/18_bin_python/\n",
      "/Oct-Japan/563_SENJU_Oct2018_Robin/bin_test/tomography/masked_tomo_datapath/S1_bin_corrected/19_bin_python/\n",
      "/Oct-Japan/563_SENJU_Oct2018_Robin/bin_test/tomography/masked_tomo_datapath/S1_bin_corrected/20_bin_python/\n",
      "/Oct-Japan/563_SENJU_Oct2018_Robin/bin_test/tomography/masked_tomo_datapath/S1_bin_corrected/21_bin_python/\n",
      "/Oct-Japan/563_SENJU_Oct2018_Robin/bin_test/tomography/masked_tomo_datapath/S1_bin_corrected/22_bin_python/\n",
      "/Oct-Japan/563_SENJU_Oct2018_Robin/bin_test/tomography/masked_tomo_datapath/S1_bin_corrected/23_bin_python/\n",
      "/Oct-Japan/563_SENJU_Oct2018_Robin/bin_test/tomography/masked_tomo_datapath/S1_bin_corrected/24_bin_python/\n",
      "/Oct-Japan/563_SENJU_Oct2018_Robin/bin_test/tomography/masked_tomo_datapath/S1_bin_corrected/25_bin_python/\n",
      "/Oct-Japan/563_SENJU_Oct2018_Robin/bin_test/tomography/masked_tomo_datapath/S1_bin_corrected/26_bin_python/\n",
      "/Oct-Japan/563_SENJU_Oct2018_Robin/bin_test/tomography/masked_tomo_datapath/S1_bin_corrected/27_bin_python/\n",
      "/Oct-Japan/563_SENJU_Oct2018_Robin/bin_test/tomography/masked_tomo_datapath/S1_bin_corrected/28_bin_python/\n",
      "/Oct-Japan/563_SENJU_Oct2018_Robin/bin_test/tomography/masked_tomo_datapath/S1_bin_corrected/29_bin_python/\n",
      "/Oct-Japan/563_SENJU_Oct2018_Robin/bin_test/tomography/masked_tomo_datapath/S1_bin_corrected/30_bin_python/\n",
      "/Oct-Japan/563_SENJU_Oct2018_Robin/bin_test/tomography/masked_tomo_datapath/S1_bin_corrected/31_bin_python/\n",
      "/Oct-Japan/563_SENJU_Oct2018_Robin/bin_test/tomography/masked_tomo_datapath/S1_bin_corrected/32_bin_python/\n",
      "/Oct-Japan/563_SENJU_Oct2018_Robin/bin_test/tomography/masked_tomo_datapath/S1_bin_corrected/33_bin_python/\n",
      "/Oct-Japan/563_SENJU_Oct2018_Robin/bin_test/tomography/masked_tomo_datapath/S1_bin_corrected/34_bin_python/\n",
      "/Oct-Japan/563_SENJU_Oct2018_Robin/bin_test/tomography/masked_tomo_datapath/S1_bin_corrected/35_bin_python/\n",
      "/Oct-Japan/563_SENJU_Oct2018_Robin/bin_test/tomography/masked_tomo_datapath/S1_bin_corrected/36_bin_python/\n",
      "/Oct-Japan/563_SENJU_Oct2018_Robin/bin_test/tomography/masked_tomo_datapath/S1_bin_corrected/37_bin_python/\n",
      "/Oct-Japan/563_SENJU_Oct2018_Robin/bin_test/tomography/masked_tomo_datapath/S1_bin_corrected/38_bin_python/\n",
      "/Oct-Japan/563_SENJU_Oct2018_Robin/bin_test/tomography/masked_tomo_datapath/S1_bin_corrected/39_bin_python/\n",
      "/Oct-Japan/563_SENJU_Oct2018_Robin/bin_test/tomography/masked_tomo_datapath/S1_bin_corrected/40_bin_python/\n",
      "/Oct-Japan/563_SENJU_Oct2018_Robin/bin_test/tomography/masked_tomo_datapath/S1_bin_corrected/41_bin_python/\n",
      "/Oct-Japan/563_SENJU_Oct2018_Robin/bin_test/tomography/masked_tomo_datapath/S1_bin_corrected/42_bin_python/\n",
      "/Oct-Japan/563_SENJU_Oct2018_Robin/bin_test/tomography/masked_tomo_datapath/S1_bin_corrected/43_bin_python/\n",
      "/Oct-Japan/563_SENJU_Oct2018_Robin/bin_test/tomography/masked_tomo_datapath/S1_bin_corrected/44_bin_python/\n",
      "/Oct-Japan/563_SENJU_Oct2018_Robin/bin_test/tomography/masked_tomo_datapath/S1_bin_corrected/45_bin_python/\n",
      "/Oct-Japan/563_SENJU_Oct2018_Robin/bin_test/tomography/masked_tomo_datapath/S1_bin_corrected/46_bin_python/\n",
      "/Oct-Japan/563_SENJU_Oct2018_Robin/bin_test/tomography/masked_tomo_datapath/S1_bin_corrected/47_bin_python/\n",
      "/Oct-Japan/563_SENJU_Oct2018_Robin/bin_test/tomography/masked_tomo_datapath/S1_bin_corrected/48_bin_python/\n",
      "/Oct-Japan/563_SENJU_Oct2018_Robin/bin_test/tomography/masked_tomo_datapath/S1_bin_corrected/49_bin_python/\n",
      "/Oct-Japan/563_SENJU_Oct2018_Robin/bin_test/tomography/masked_tomo_datapath/S1_bin_corrected/50_bin_python/\n",
      "/Oct-Japan/563_SENJU_Oct2018_Robin/bin_test/tomography/masked_tomo_datapath/S1_bin_corrected/51_bin_python/\n",
      "/Oct-Japan/563_SENJU_Oct2018_Robin/bin_test/tomography/masked_tomo_datapath/S1_bin_corrected/52_bin_python/\n",
      "/Oct-Japan/563_SENJU_Oct2018_Robin/bin_test/tomography/masked_tomo_datapath/S1_bin_corrected/53_bin_python/\n",
      "/Oct-Japan/563_SENJU_Oct2018_Robin/bin_test/tomography/masked_tomo_datapath/S1_bin_corrected/54_bin_python/\n",
      "/Oct-Japan/563_SENJU_Oct2018_Robin/bin_test/tomography/masked_tomo_datapath/S1_bin_corrected/55_bin_python/\n",
      "/Oct-Japan/563_SENJU_Oct2018_Robin/bin_test/tomography/masked_tomo_datapath/S1_bin_corrected/56_bin_python/\n",
      "/Oct-Japan/563_SENJU_Oct2018_Robin/bin_test/tomography/masked_tomo_datapath/S1_bin_corrected/57_bin_python/\n",
      "/Oct-Japan/563_SENJU_Oct2018_Robin/bin_test/tomography/masked_tomo_datapath/S1_bin_corrected/58_bin_python/\n",
      "/Oct-Japan/563_SENJU_Oct2018_Robin/bin_test/tomography/masked_tomo_datapath/S1_bin_corrected/59_bin_python/\n"
     ]
    }
   ],
   "source": [
    "# define paths of the folders to be averaged\n",
    "\n",
    "for k in range(0, len(coll_dir)): # instead of 20 it should be len(coll_dir), number of radiographs\n",
    "    path= datapath+coll_dir[k]+'/' # identify the path name (string)\n",
    "    print(path)\n",
    "    curr_dir = fnmatch.filter(listdir(path),'*.fits') # read fits files (list) for the first folder in the list of images (one radiograph)"
   ]
  },
  {
   "cell_type": "code",
   "execution_count": 112,
   "metadata": {},
   "outputs": [],
   "source": [
    "if not os.path.exists(whitebeampath):\n",
    "    os.makedirs(whitebeampath)"
   ]
  },
  {
   "cell_type": "markdown",
   "metadata": {},
   "source": [
    "## white beam so add all images at one projection and divide by the number of images to get one image for each projection"
   ]
  },
  {
   "cell_type": "code",
   "execution_count": 113,
   "metadata": {},
   "outputs": [
    {
     "name": "stdout",
     "output_type": "stream",
     "text": [
      "/Oct-Japan/563_SENJU_Oct2018_Robin/bin_test/tomography/masked_tomo_datapath/whitebeam/S1/S1_white_img_13_bin.fits\n",
      "/Oct-Japan/563_SENJU_Oct2018_Robin/bin_test/tomography/masked_tomo_datapath/whitebeam/S1/S1_white_img_14_bin.fits\n",
      "/Oct-Japan/563_SENJU_Oct2018_Robin/bin_test/tomography/masked_tomo_datapath/whitebeam/S1/S1_white_img_15_bin.fits\n",
      "/Oct-Japan/563_SENJU_Oct2018_Robin/bin_test/tomography/masked_tomo_datapath/whitebeam/S1/S1_white_img_16_bin.fits\n",
      "/Oct-Japan/563_SENJU_Oct2018_Robin/bin_test/tomography/masked_tomo_datapath/whitebeam/S1/S1_white_img_17_bin.fits\n",
      "/Oct-Japan/563_SENJU_Oct2018_Robin/bin_test/tomography/masked_tomo_datapath/whitebeam/S1/S1_white_img_18_bin.fits\n",
      "/Oct-Japan/563_SENJU_Oct2018_Robin/bin_test/tomography/masked_tomo_datapath/whitebeam/S1/S1_white_img_19_bin.fits\n",
      "/Oct-Japan/563_SENJU_Oct2018_Robin/bin_test/tomography/masked_tomo_datapath/whitebeam/S1/S1_white_img_20_bin.fits\n",
      "/Oct-Japan/563_SENJU_Oct2018_Robin/bin_test/tomography/masked_tomo_datapath/whitebeam/S1/S1_white_img_21_bin.fits\n",
      "/Oct-Japan/563_SENJU_Oct2018_Robin/bin_test/tomography/masked_tomo_datapath/whitebeam/S1/S1_white_img_22_bin.fits\n",
      "/Oct-Japan/563_SENJU_Oct2018_Robin/bin_test/tomography/masked_tomo_datapath/whitebeam/S1/S1_white_img_23_bin.fits\n",
      "/Oct-Japan/563_SENJU_Oct2018_Robin/bin_test/tomography/masked_tomo_datapath/whitebeam/S1/S1_white_img_24_bin.fits\n",
      "/Oct-Japan/563_SENJU_Oct2018_Robin/bin_test/tomography/masked_tomo_datapath/whitebeam/S1/S1_white_img_25_bin.fits\n",
      "/Oct-Japan/563_SENJU_Oct2018_Robin/bin_test/tomography/masked_tomo_datapath/whitebeam/S1/S1_white_img_26_bin.fits\n",
      "/Oct-Japan/563_SENJU_Oct2018_Robin/bin_test/tomography/masked_tomo_datapath/whitebeam/S1/S1_white_img_27_bin.fits\n",
      "/Oct-Japan/563_SENJU_Oct2018_Robin/bin_test/tomography/masked_tomo_datapath/whitebeam/S1/S1_white_img_28_bin.fits\n",
      "/Oct-Japan/563_SENJU_Oct2018_Robin/bin_test/tomography/masked_tomo_datapath/whitebeam/S1/S1_white_img_29_bin.fits\n",
      "/Oct-Japan/563_SENJU_Oct2018_Robin/bin_test/tomography/masked_tomo_datapath/whitebeam/S1/S1_white_img_30_bin.fits\n",
      "/Oct-Japan/563_SENJU_Oct2018_Robin/bin_test/tomography/masked_tomo_datapath/whitebeam/S1/S1_white_img_31_bin.fits\n",
      "/Oct-Japan/563_SENJU_Oct2018_Robin/bin_test/tomography/masked_tomo_datapath/whitebeam/S1/S1_white_img_32_bin.fits\n",
      "/Oct-Japan/563_SENJU_Oct2018_Robin/bin_test/tomography/masked_tomo_datapath/whitebeam/S1/S1_white_img_33_bin.fits\n",
      "/Oct-Japan/563_SENJU_Oct2018_Robin/bin_test/tomography/masked_tomo_datapath/whitebeam/S1/S1_white_img_34_bin.fits\n",
      "/Oct-Japan/563_SENJU_Oct2018_Robin/bin_test/tomography/masked_tomo_datapath/whitebeam/S1/S1_white_img_35_bin.fits\n",
      "/Oct-Japan/563_SENJU_Oct2018_Robin/bin_test/tomography/masked_tomo_datapath/whitebeam/S1/S1_white_img_36_bin.fits\n",
      "/Oct-Japan/563_SENJU_Oct2018_Robin/bin_test/tomography/masked_tomo_datapath/whitebeam/S1/S1_white_img_37_bin.fits\n",
      "/Oct-Japan/563_SENJU_Oct2018_Robin/bin_test/tomography/masked_tomo_datapath/whitebeam/S1/S1_white_img_38_bin.fits\n",
      "/Oct-Japan/563_SENJU_Oct2018_Robin/bin_test/tomography/masked_tomo_datapath/whitebeam/S1/S1_white_img_39_bin.fits\n",
      "/Oct-Japan/563_SENJU_Oct2018_Robin/bin_test/tomography/masked_tomo_datapath/whitebeam/S1/S1_white_img_40_bin.fits\n",
      "/Oct-Japan/563_SENJU_Oct2018_Robin/bin_test/tomography/masked_tomo_datapath/whitebeam/S1/S1_white_img_41_bin.fits\n",
      "/Oct-Japan/563_SENJU_Oct2018_Robin/bin_test/tomography/masked_tomo_datapath/whitebeam/S1/S1_white_img_42_bin.fits\n",
      "/Oct-Japan/563_SENJU_Oct2018_Robin/bin_test/tomography/masked_tomo_datapath/whitebeam/S1/S1_white_img_43_bin.fits\n",
      "/Oct-Japan/563_SENJU_Oct2018_Robin/bin_test/tomography/masked_tomo_datapath/whitebeam/S1/S1_white_img_44_bin.fits\n",
      "/Oct-Japan/563_SENJU_Oct2018_Robin/bin_test/tomography/masked_tomo_datapath/whitebeam/S1/S1_white_img_45_bin.fits\n",
      "/Oct-Japan/563_SENJU_Oct2018_Robin/bin_test/tomography/masked_tomo_datapath/whitebeam/S1/S1_white_img_46_bin.fits\n",
      "/Oct-Japan/563_SENJU_Oct2018_Robin/bin_test/tomography/masked_tomo_datapath/whitebeam/S1/S1_white_img_47_bin.fits\n",
      "/Oct-Japan/563_SENJU_Oct2018_Robin/bin_test/tomography/masked_tomo_datapath/whitebeam/S1/S1_white_img_48_bin.fits\n",
      "/Oct-Japan/563_SENJU_Oct2018_Robin/bin_test/tomography/masked_tomo_datapath/whitebeam/S1/S1_white_img_49_bin.fits\n",
      "/Oct-Japan/563_SENJU_Oct2018_Robin/bin_test/tomography/masked_tomo_datapath/whitebeam/S1/S1_white_img_50_bin.fits\n",
      "/Oct-Japan/563_SENJU_Oct2018_Robin/bin_test/tomography/masked_tomo_datapath/whitebeam/S1/S1_white_img_51_bin.fits\n",
      "/Oct-Japan/563_SENJU_Oct2018_Robin/bin_test/tomography/masked_tomo_datapath/whitebeam/S1/S1_white_img_52_bin.fits\n",
      "/Oct-Japan/563_SENJU_Oct2018_Robin/bin_test/tomography/masked_tomo_datapath/whitebeam/S1/S1_white_img_53_bin.fits\n",
      "/Oct-Japan/563_SENJU_Oct2018_Robin/bin_test/tomography/masked_tomo_datapath/whitebeam/S1/S1_white_img_54_bin.fits\n",
      "/Oct-Japan/563_SENJU_Oct2018_Robin/bin_test/tomography/masked_tomo_datapath/whitebeam/S1/S1_white_img_55_bin.fits\n",
      "/Oct-Japan/563_SENJU_Oct2018_Robin/bin_test/tomography/masked_tomo_datapath/whitebeam/S1/S1_white_img_56_bin.fits\n",
      "/Oct-Japan/563_SENJU_Oct2018_Robin/bin_test/tomography/masked_tomo_datapath/whitebeam/S1/S1_white_img_57_bin.fits\n",
      "/Oct-Japan/563_SENJU_Oct2018_Robin/bin_test/tomography/masked_tomo_datapath/whitebeam/S1/S1_white_img_58_bin.fits\n",
      "/Oct-Japan/563_SENJU_Oct2018_Robin/bin_test/tomography/masked_tomo_datapath/whitebeam/S1/S1_white_img_59_bin.fits\n"
     ]
    }
   ],
   "source": [
    "for i in range(0, (len(coll_dir))): #how many folders(orientation) for the directory (tomography)\n",
    "            img = np.zeros([512,512],dtype='>f4')\n",
    "            white_img = np.zeros([512,512], dtype='>f4')\n",
    "            path= datapath+coll_dir[i]+'/'\n",
    "#             print(path)\n",
    "            curr_dir = fnmatch.filter(listdir(path),'*.fits')\n",
    "            name_dir = path.split(\"/\")\n",
    "            name_s = name_dir[-2].split(\"_\")\n",
    "            name_sa = name_s[0].split(\"#\")\n",
    "#             print(str(name_sa[-1]) )\n",
    "            for j in range(0, len(curr_dir)): #475\n",
    "                name=path+curr_dir[j]  \n",
    "                with fits.open(name) as im:\n",
    "                    data=im[0].data\n",
    "                    img=img+data \n",
    "            white_img= np.true_divide(img,(j+1))\n",
    "#             avg_img= np.round(avg_img,7)\n",
    "            pyfits.writeto(whitebeampath+str(name_f)+'_white_img_'+str(name_sa[-1])+'_bin.fits', white_img,clobber=True)\n",
    "#             pyfits.writeto(savepath+'S1_avg_img_'+ str(name_s[0])+'_'+str(f\"{j:03}\")+'.fits', img)\n",
    "            print(whitebeampath+str(name_f)+'_white_img_'+str(name_sa[-1])+'_bin.fits')"
   ]
  },
  {
   "cell_type": "code",
   "execution_count": 136,
   "metadata": {},
   "outputs": [
    {
     "name": "stdout",
     "output_type": "stream",
     "text": [
      "write the initial of folder needed to be averaged i.e. S2_bin or OB2 = (do not include the \" \")OB1\n",
      "/Oct-Japan/563_SENJU_Oct2018_Robin/bin_test/tomography/OB1/\n",
      "/Oct-Japan/563_SENJU_Oct2018_Robin/bin_test/tomography/whitebeam/OB1/\n"
     ]
    }
   ],
   "source": [
    "OB = input('write the initial of folder needed to be averaged i.e. S2_bin or OB2 = (do not include the \" \")')\n",
    "rootpath= \"/Oct-Japan/563_SENJU_Oct2018_Robin/bin_test/tomography/\"\n",
    "datapath= rootpath + OB+ \"/\"\n",
    "whitebeampath_OB=rootpath+'whitebeam/'+OB+\"/\"\n",
    "# whitebeampath_bef=rootpath+'whitebeam_bef/'+name_file[0]+\"_bef/\"\n",
    "print(datapath)\n",
    "print(whitebeampath_OB)"
   ]
  },
  {
   "cell_type": "code",
   "execution_count": 138,
   "metadata": {},
   "outputs": [
    {
     "name": "stdout",
     "output_type": "stream",
     "text": [
      "/Oct-Japan/563_SENJU_Oct2018_Robin/bin_test/tomography/OB1/\n",
      "474\n",
      "/Oct-Japan/563_SENJU_Oct2018_Robin/bin_test/tomography/masked_tomo_datapath/whitebeam_after/OB1_white_img_after_bin.fits\n"
     ]
    }
   ],
   "source": [
    "# whitebeampath_OB_bef=rootpath_ct+'whitebeam_bef/'\n",
    "whitebeampath_OB_after=rootpath_ct+'whitebeam_after/'\n",
    "\n",
    "# OB\n",
    "print(datapath)\n",
    "curr_dir = fnmatch.filter(listdir(datapath),'*.fits')\n",
    "print(len(curr_dir))\n",
    "img = np.zeros([512,512],dtype='>f4')\n",
    "white_img = np.zeros([512,512], dtype='>f4')\n",
    "# for j in range(0, len(curr_dir)): \n",
    "for j in range(240, 245): #before Bragg edge\n",
    "    name=datapath+curr_dir[j] \n",
    "#     print(name)\n",
    "    with fits.open(name) as im:\n",
    "        data=im[0].data\n",
    "        img=img+data \n",
    "white_img= np.true_divide(img,((j)+1))\n",
    "white_img= np.true_divide(img,((j-240)+1))\n",
    "pyfits.writeto(whitebeampath_OB_after+str(OB)+'_white_img_after_'+'bin.fits', white_img,clobber=True)\n",
    "#             pyfits.writeto(savepath+'S1_avg_img_'+ str(name_s[0])+'_'+str(f\"{j:03}\")+'.fits', img)\n",
    "print(whitebeampath_OB_after+str(OB)+'_white_img_after_'+'bin.fits')"
   ]
  },
  {
   "cell_type": "code",
   "execution_count": 130,
   "metadata": {},
   "outputs": [
    {
     "name": "stdout",
     "output_type": "stream",
     "text": [
      "/Oct-Japan/563_SENJU_Oct2018_Robin/bin_test/tomography/masked_tomo_datapath/whitebeam_bef/Dark_white_img_bef_bin_1.fits\n"
     ]
    }
   ],
   "source": [
    "# Dark image\n",
    "img = np.zeros([512,512],dtype='>f4')\n",
    "pyfits.writeto(whitebeampath_OB_bef+'Dark_white_img_bef_bin_1.fits', img,clobber=True)\n",
    "#  pyfits.writeto(savepath+'S1_avg_img_'+ str(name_s[0])+'_'+str(f\"{j:03}\")+'.fits', img)\n",
    "print(whitebeampath_OB_bef+'Dark_white_img_bef_bin_1.fits')"
   ]
  },
  {
   "cell_type": "markdown",
   "metadata": {},
   "source": [
    "## for CT for part of the spectrum (before and after Bragg edge)"
   ]
  },
  {
   "cell_type": "code",
   "execution_count": 131,
   "metadata": {},
   "outputs": [
    {
     "name": "stdout",
     "output_type": "stream",
     "text": [
      "write the initial of folder needed to be averaged for CT i.e. S2_bin  = (do not include the \" \")S1_bin\n"
     ]
    }
   ],
   "source": [
    "ct= input('write the initial of folder needed to be averaged for CT i.e. S2_bin  = (do not include the \" \")')"
   ]
  },
  {
   "cell_type": "code",
   "execution_count": 133,
   "metadata": {},
   "outputs": [
    {
     "name": "stdout",
     "output_type": "stream",
     "text": [
      "/Oct-Japan/563_SENJU_Oct2018_Robin/bin_test/tomography/masked_tomo_datapath/S1_bin_corrected/\n",
      "/Oct-Japan/563_SENJU_Oct2018_Robin/bin_test/tomography/masked_tomo_datapath/whitebeam_after/S1_after/\n"
     ]
    }
   ],
   "source": [
    "name_file= ct.split(\"_\")\n",
    "name_f=name_file[0]\n",
    "rootpath_ct= \"/Oct-Japan/563_SENJU_Oct2018_Robin/bin_test/tomography/masked_tomo_datapath/\"\n",
    "datapath_ct= rootpath_ct + ct +\"_corrected/\"\n",
    "whitebeampath_after=rootpath_ct+'whitebeam_after/'+name_f+\"_after/\"\n",
    "print(datapath_ct)\n",
    "print(whitebeampath_bef)"
   ]
  },
  {
   "cell_type": "code",
   "execution_count": 134,
   "metadata": {},
   "outputs": [],
   "source": [
    "if not os.path.exists(whitebeampath_after):\n",
    "    os.makedirs(whitebeampath_after)"
   ]
  },
  {
   "cell_type": "code",
   "execution_count": 135,
   "metadata": {},
   "outputs": [
    {
     "name": "stdout",
     "output_type": "stream",
     "text": [
      "/Oct-Japan/563_SENJU_Oct2018_Robin/bin_test/tomography/masked_tomo_datapath/S1_bin_corrected/13_bin_python/\n",
      "/Oct-Japan/563_SENJU_Oct2018_Robin/bin_test/tomography/masked_tomo_datapath/whitebeam_after/S1_after/S1_white_img_13_bin.fits\n",
      "/Oct-Japan/563_SENJU_Oct2018_Robin/bin_test/tomography/masked_tomo_datapath/S1_bin_corrected/14_bin_python/\n",
      "/Oct-Japan/563_SENJU_Oct2018_Robin/bin_test/tomography/masked_tomo_datapath/whitebeam_after/S1_after/S1_white_img_14_bin.fits\n",
      "/Oct-Japan/563_SENJU_Oct2018_Robin/bin_test/tomography/masked_tomo_datapath/S1_bin_corrected/15_bin_python/\n",
      "/Oct-Japan/563_SENJU_Oct2018_Robin/bin_test/tomography/masked_tomo_datapath/whitebeam_after/S1_after/S1_white_img_15_bin.fits\n",
      "/Oct-Japan/563_SENJU_Oct2018_Robin/bin_test/tomography/masked_tomo_datapath/S1_bin_corrected/16_bin_python/\n",
      "/Oct-Japan/563_SENJU_Oct2018_Robin/bin_test/tomography/masked_tomo_datapath/whitebeam_after/S1_after/S1_white_img_16_bin.fits\n",
      "/Oct-Japan/563_SENJU_Oct2018_Robin/bin_test/tomography/masked_tomo_datapath/S1_bin_corrected/17_bin_python/\n",
      "/Oct-Japan/563_SENJU_Oct2018_Robin/bin_test/tomography/masked_tomo_datapath/whitebeam_after/S1_after/S1_white_img_17_bin.fits\n",
      "/Oct-Japan/563_SENJU_Oct2018_Robin/bin_test/tomography/masked_tomo_datapath/S1_bin_corrected/18_bin_python/\n",
      "/Oct-Japan/563_SENJU_Oct2018_Robin/bin_test/tomography/masked_tomo_datapath/whitebeam_after/S1_after/S1_white_img_18_bin.fits\n",
      "/Oct-Japan/563_SENJU_Oct2018_Robin/bin_test/tomography/masked_tomo_datapath/S1_bin_corrected/19_bin_python/\n",
      "/Oct-Japan/563_SENJU_Oct2018_Robin/bin_test/tomography/masked_tomo_datapath/whitebeam_after/S1_after/S1_white_img_19_bin.fits\n",
      "/Oct-Japan/563_SENJU_Oct2018_Robin/bin_test/tomography/masked_tomo_datapath/S1_bin_corrected/20_bin_python/\n",
      "/Oct-Japan/563_SENJU_Oct2018_Robin/bin_test/tomography/masked_tomo_datapath/whitebeam_after/S1_after/S1_white_img_20_bin.fits\n",
      "/Oct-Japan/563_SENJU_Oct2018_Robin/bin_test/tomography/masked_tomo_datapath/S1_bin_corrected/21_bin_python/\n",
      "/Oct-Japan/563_SENJU_Oct2018_Robin/bin_test/tomography/masked_tomo_datapath/whitebeam_after/S1_after/S1_white_img_21_bin.fits\n",
      "/Oct-Japan/563_SENJU_Oct2018_Robin/bin_test/tomography/masked_tomo_datapath/S1_bin_corrected/22_bin_python/\n",
      "/Oct-Japan/563_SENJU_Oct2018_Robin/bin_test/tomography/masked_tomo_datapath/whitebeam_after/S1_after/S1_white_img_22_bin.fits\n",
      "/Oct-Japan/563_SENJU_Oct2018_Robin/bin_test/tomography/masked_tomo_datapath/S1_bin_corrected/23_bin_python/\n",
      "/Oct-Japan/563_SENJU_Oct2018_Robin/bin_test/tomography/masked_tomo_datapath/whitebeam_after/S1_after/S1_white_img_23_bin.fits\n",
      "/Oct-Japan/563_SENJU_Oct2018_Robin/bin_test/tomography/masked_tomo_datapath/S1_bin_corrected/24_bin_python/\n",
      "/Oct-Japan/563_SENJU_Oct2018_Robin/bin_test/tomography/masked_tomo_datapath/whitebeam_after/S1_after/S1_white_img_24_bin.fits\n",
      "/Oct-Japan/563_SENJU_Oct2018_Robin/bin_test/tomography/masked_tomo_datapath/S1_bin_corrected/25_bin_python/\n",
      "/Oct-Japan/563_SENJU_Oct2018_Robin/bin_test/tomography/masked_tomo_datapath/whitebeam_after/S1_after/S1_white_img_25_bin.fits\n",
      "/Oct-Japan/563_SENJU_Oct2018_Robin/bin_test/tomography/masked_tomo_datapath/S1_bin_corrected/26_bin_python/\n",
      "/Oct-Japan/563_SENJU_Oct2018_Robin/bin_test/tomography/masked_tomo_datapath/whitebeam_after/S1_after/S1_white_img_26_bin.fits\n",
      "/Oct-Japan/563_SENJU_Oct2018_Robin/bin_test/tomography/masked_tomo_datapath/S1_bin_corrected/27_bin_python/\n",
      "/Oct-Japan/563_SENJU_Oct2018_Robin/bin_test/tomography/masked_tomo_datapath/whitebeam_after/S1_after/S1_white_img_27_bin.fits\n",
      "/Oct-Japan/563_SENJU_Oct2018_Robin/bin_test/tomography/masked_tomo_datapath/S1_bin_corrected/28_bin_python/\n",
      "/Oct-Japan/563_SENJU_Oct2018_Robin/bin_test/tomography/masked_tomo_datapath/whitebeam_after/S1_after/S1_white_img_28_bin.fits\n",
      "/Oct-Japan/563_SENJU_Oct2018_Robin/bin_test/tomography/masked_tomo_datapath/S1_bin_corrected/29_bin_python/\n",
      "/Oct-Japan/563_SENJU_Oct2018_Robin/bin_test/tomography/masked_tomo_datapath/whitebeam_after/S1_after/S1_white_img_29_bin.fits\n",
      "/Oct-Japan/563_SENJU_Oct2018_Robin/bin_test/tomography/masked_tomo_datapath/S1_bin_corrected/30_bin_python/\n",
      "/Oct-Japan/563_SENJU_Oct2018_Robin/bin_test/tomography/masked_tomo_datapath/whitebeam_after/S1_after/S1_white_img_30_bin.fits\n",
      "/Oct-Japan/563_SENJU_Oct2018_Robin/bin_test/tomography/masked_tomo_datapath/S1_bin_corrected/31_bin_python/\n",
      "/Oct-Japan/563_SENJU_Oct2018_Robin/bin_test/tomography/masked_tomo_datapath/whitebeam_after/S1_after/S1_white_img_31_bin.fits\n",
      "/Oct-Japan/563_SENJU_Oct2018_Robin/bin_test/tomography/masked_tomo_datapath/S1_bin_corrected/32_bin_python/\n",
      "/Oct-Japan/563_SENJU_Oct2018_Robin/bin_test/tomography/masked_tomo_datapath/whitebeam_after/S1_after/S1_white_img_32_bin.fits\n",
      "/Oct-Japan/563_SENJU_Oct2018_Robin/bin_test/tomography/masked_tomo_datapath/S1_bin_corrected/33_bin_python/\n",
      "/Oct-Japan/563_SENJU_Oct2018_Robin/bin_test/tomography/masked_tomo_datapath/whitebeam_after/S1_after/S1_white_img_33_bin.fits\n",
      "/Oct-Japan/563_SENJU_Oct2018_Robin/bin_test/tomography/masked_tomo_datapath/S1_bin_corrected/34_bin_python/\n",
      "/Oct-Japan/563_SENJU_Oct2018_Robin/bin_test/tomography/masked_tomo_datapath/whitebeam_after/S1_after/S1_white_img_34_bin.fits\n",
      "/Oct-Japan/563_SENJU_Oct2018_Robin/bin_test/tomography/masked_tomo_datapath/S1_bin_corrected/35_bin_python/\n",
      "/Oct-Japan/563_SENJU_Oct2018_Robin/bin_test/tomography/masked_tomo_datapath/whitebeam_after/S1_after/S1_white_img_35_bin.fits\n",
      "/Oct-Japan/563_SENJU_Oct2018_Robin/bin_test/tomography/masked_tomo_datapath/S1_bin_corrected/36_bin_python/\n",
      "/Oct-Japan/563_SENJU_Oct2018_Robin/bin_test/tomography/masked_tomo_datapath/whitebeam_after/S1_after/S1_white_img_36_bin.fits\n",
      "/Oct-Japan/563_SENJU_Oct2018_Robin/bin_test/tomography/masked_tomo_datapath/S1_bin_corrected/37_bin_python/\n",
      "/Oct-Japan/563_SENJU_Oct2018_Robin/bin_test/tomography/masked_tomo_datapath/whitebeam_after/S1_after/S1_white_img_37_bin.fits\n",
      "/Oct-Japan/563_SENJU_Oct2018_Robin/bin_test/tomography/masked_tomo_datapath/S1_bin_corrected/38_bin_python/\n",
      "/Oct-Japan/563_SENJU_Oct2018_Robin/bin_test/tomography/masked_tomo_datapath/whitebeam_after/S1_after/S1_white_img_38_bin.fits\n",
      "/Oct-Japan/563_SENJU_Oct2018_Robin/bin_test/tomography/masked_tomo_datapath/S1_bin_corrected/39_bin_python/\n",
      "/Oct-Japan/563_SENJU_Oct2018_Robin/bin_test/tomography/masked_tomo_datapath/whitebeam_after/S1_after/S1_white_img_39_bin.fits\n",
      "/Oct-Japan/563_SENJU_Oct2018_Robin/bin_test/tomography/masked_tomo_datapath/S1_bin_corrected/40_bin_python/\n",
      "/Oct-Japan/563_SENJU_Oct2018_Robin/bin_test/tomography/masked_tomo_datapath/whitebeam_after/S1_after/S1_white_img_40_bin.fits\n",
      "/Oct-Japan/563_SENJU_Oct2018_Robin/bin_test/tomography/masked_tomo_datapath/S1_bin_corrected/41_bin_python/\n",
      "/Oct-Japan/563_SENJU_Oct2018_Robin/bin_test/tomography/masked_tomo_datapath/whitebeam_after/S1_after/S1_white_img_41_bin.fits\n",
      "/Oct-Japan/563_SENJU_Oct2018_Robin/bin_test/tomography/masked_tomo_datapath/S1_bin_corrected/42_bin_python/\n",
      "/Oct-Japan/563_SENJU_Oct2018_Robin/bin_test/tomography/masked_tomo_datapath/whitebeam_after/S1_after/S1_white_img_42_bin.fits\n",
      "/Oct-Japan/563_SENJU_Oct2018_Robin/bin_test/tomography/masked_tomo_datapath/S1_bin_corrected/43_bin_python/\n",
      "/Oct-Japan/563_SENJU_Oct2018_Robin/bin_test/tomography/masked_tomo_datapath/whitebeam_after/S1_after/S1_white_img_43_bin.fits\n",
      "/Oct-Japan/563_SENJU_Oct2018_Robin/bin_test/tomography/masked_tomo_datapath/S1_bin_corrected/44_bin_python/\n",
      "/Oct-Japan/563_SENJU_Oct2018_Robin/bin_test/tomography/masked_tomo_datapath/whitebeam_after/S1_after/S1_white_img_44_bin.fits\n",
      "/Oct-Japan/563_SENJU_Oct2018_Robin/bin_test/tomography/masked_tomo_datapath/S1_bin_corrected/45_bin_python/\n",
      "/Oct-Japan/563_SENJU_Oct2018_Robin/bin_test/tomography/masked_tomo_datapath/whitebeam_after/S1_after/S1_white_img_45_bin.fits\n",
      "/Oct-Japan/563_SENJU_Oct2018_Robin/bin_test/tomography/masked_tomo_datapath/S1_bin_corrected/46_bin_python/\n",
      "/Oct-Japan/563_SENJU_Oct2018_Robin/bin_test/tomography/masked_tomo_datapath/whitebeam_after/S1_after/S1_white_img_46_bin.fits\n",
      "/Oct-Japan/563_SENJU_Oct2018_Robin/bin_test/tomography/masked_tomo_datapath/S1_bin_corrected/47_bin_python/\n",
      "/Oct-Japan/563_SENJU_Oct2018_Robin/bin_test/tomography/masked_tomo_datapath/whitebeam_after/S1_after/S1_white_img_47_bin.fits\n",
      "/Oct-Japan/563_SENJU_Oct2018_Robin/bin_test/tomography/masked_tomo_datapath/S1_bin_corrected/48_bin_python/\n",
      "/Oct-Japan/563_SENJU_Oct2018_Robin/bin_test/tomography/masked_tomo_datapath/whitebeam_after/S1_after/S1_white_img_48_bin.fits\n",
      "/Oct-Japan/563_SENJU_Oct2018_Robin/bin_test/tomography/masked_tomo_datapath/S1_bin_corrected/49_bin_python/\n",
      "/Oct-Japan/563_SENJU_Oct2018_Robin/bin_test/tomography/masked_tomo_datapath/whitebeam_after/S1_after/S1_white_img_49_bin.fits\n",
      "/Oct-Japan/563_SENJU_Oct2018_Robin/bin_test/tomography/masked_tomo_datapath/S1_bin_corrected/50_bin_python/\n"
     ]
    },
    {
     "name": "stdout",
     "output_type": "stream",
     "text": [
      "/Oct-Japan/563_SENJU_Oct2018_Robin/bin_test/tomography/masked_tomo_datapath/whitebeam_after/S1_after/S1_white_img_50_bin.fits\n",
      "/Oct-Japan/563_SENJU_Oct2018_Robin/bin_test/tomography/masked_tomo_datapath/S1_bin_corrected/51_bin_python/\n",
      "/Oct-Japan/563_SENJU_Oct2018_Robin/bin_test/tomography/masked_tomo_datapath/whitebeam_after/S1_after/S1_white_img_51_bin.fits\n",
      "/Oct-Japan/563_SENJU_Oct2018_Robin/bin_test/tomography/masked_tomo_datapath/S1_bin_corrected/52_bin_python/\n",
      "/Oct-Japan/563_SENJU_Oct2018_Robin/bin_test/tomography/masked_tomo_datapath/whitebeam_after/S1_after/S1_white_img_52_bin.fits\n",
      "/Oct-Japan/563_SENJU_Oct2018_Robin/bin_test/tomography/masked_tomo_datapath/S1_bin_corrected/53_bin_python/\n",
      "/Oct-Japan/563_SENJU_Oct2018_Robin/bin_test/tomography/masked_tomo_datapath/whitebeam_after/S1_after/S1_white_img_53_bin.fits\n",
      "/Oct-Japan/563_SENJU_Oct2018_Robin/bin_test/tomography/masked_tomo_datapath/S1_bin_corrected/54_bin_python/\n",
      "/Oct-Japan/563_SENJU_Oct2018_Robin/bin_test/tomography/masked_tomo_datapath/whitebeam_after/S1_after/S1_white_img_54_bin.fits\n",
      "/Oct-Japan/563_SENJU_Oct2018_Robin/bin_test/tomography/masked_tomo_datapath/S1_bin_corrected/55_bin_python/\n",
      "/Oct-Japan/563_SENJU_Oct2018_Robin/bin_test/tomography/masked_tomo_datapath/whitebeam_after/S1_after/S1_white_img_55_bin.fits\n",
      "/Oct-Japan/563_SENJU_Oct2018_Robin/bin_test/tomography/masked_tomo_datapath/S1_bin_corrected/56_bin_python/\n",
      "/Oct-Japan/563_SENJU_Oct2018_Robin/bin_test/tomography/masked_tomo_datapath/whitebeam_after/S1_after/S1_white_img_56_bin.fits\n",
      "/Oct-Japan/563_SENJU_Oct2018_Robin/bin_test/tomography/masked_tomo_datapath/S1_bin_corrected/57_bin_python/\n",
      "/Oct-Japan/563_SENJU_Oct2018_Robin/bin_test/tomography/masked_tomo_datapath/whitebeam_after/S1_after/S1_white_img_57_bin.fits\n",
      "/Oct-Japan/563_SENJU_Oct2018_Robin/bin_test/tomography/masked_tomo_datapath/S1_bin_corrected/58_bin_python/\n",
      "/Oct-Japan/563_SENJU_Oct2018_Robin/bin_test/tomography/masked_tomo_datapath/whitebeam_after/S1_after/S1_white_img_58_bin.fits\n",
      "/Oct-Japan/563_SENJU_Oct2018_Robin/bin_test/tomography/masked_tomo_datapath/S1_bin_corrected/59_bin_python/\n",
      "/Oct-Japan/563_SENJU_Oct2018_Robin/bin_test/tomography/masked_tomo_datapath/whitebeam_after/S1_after/S1_white_img_59_bin.fits\n"
     ]
    }
   ],
   "source": [
    "for i in range(0, (len(coll_dir))): #how many folders(orientation) for the directory (tomography)\n",
    "            img = np.zeros([512,512],dtype='>f4')\n",
    "            white_img = np.zeros([512,512], dtype='>f4')\n",
    "            path= datapath_ct+coll_dir[i]+'/'\n",
    "            print(path)\n",
    "            curr_dir = fnmatch.filter(listdir(path),'*.fits')\n",
    "            name_dir = path.split(\"/\")\n",
    "            name_s = name_dir[-2].split(\"_\")\n",
    "            name_sa = name_s[0].split(\"#\")\n",
    "\n",
    "            for j in range(240, 245): #before Bragg edge\n",
    "                name=path+curr_dir[j]               \n",
    "                with fits.open(name) as im:\n",
    "                    data=im[0].data\n",
    "                    img=img+data \n",
    "            white_img= np.true_divide(img,((j-240)+1))\n",
    "            pyfits.writeto(whitebeampath_after+str(name_f)+'_white_img_'+str(name_sa[-1])+'_bin.fits', white_img,clobber=True)\n",
    "#             pyfits.writeto(savepath+'S1_avg_img_'+ str(name_s[0])+'_'+str(f\"{j:03}\")+'.fits', img)\n",
    "            print(whitebeampath_after+str(name_f)+'_white_img_'+str(name_sa[-1])+'_bin.fits')"
   ]
  },
  {
   "cell_type": "code",
   "execution_count": null,
   "metadata": {},
   "outputs": [],
   "source": []
  }
 ],
 "metadata": {
  "kernelspec": {
   "display_name": "Python 3",
   "language": "python",
   "name": "python3"
  },
  "language_info": {
   "codemirror_mode": {
    "name": "ipython",
    "version": 3
   },
   "file_extension": ".py",
   "mimetype": "text/x-python",
   "name": "python",
   "nbconvert_exporter": "python",
   "pygments_lexer": "ipython3",
   "version": "3.7.1"
  }
 },
 "nbformat": 4,
 "nbformat_minor": 2
}
