{
 "cells": [
  {
   "cell_type": "markdown",
   "metadata": {},
   "source": [
    "## This notebook is used for creating the white beam (average) for all tomography folders \n",
    "i.e. for one stress state"
   ]
  },
  {
   "cell_type": "code",
   "execution_count": 1,
   "metadata": {},
   "outputs": [
    {
     "name": "stderr",
     "output_type": "stream",
     "text": [
      "E:\\Anaconda3\\lib\\site-packages\\pyfits\\__init__.py:22: PyFITSDeprecationWarning: PyFITS is deprecated, please use astropy.io.fits\n",
      "  PyFITSDeprecationWarning)  # noqa\n"
     ]
    }
   ],
   "source": [
    "import os, fnmatch\n",
    "import sys\n",
    "import numpy  as np\n",
    "# %matplotlib inline\n",
    "%matplotlib notebook\n",
    "import pylab\n",
    "import scipy\n",
    "import pyfits\n",
    "from os import listdir\n",
    "from astropy.io import fits\n",
    "# import cv2"
   ]
  },
  {
   "cell_type": "code",
   "execution_count": 2,
   "metadata": {},
   "outputs": [
    {
     "name": "stdout",
     "output_type": "stream",
     "text": [
      "/Oct-Japan/563_SENJU_Oct2018_Robin/test/norm/norm_S1/\n",
      "/Oct-Japan/563_SENJU_Oct2018_Robin/test/norm/norm_S1/S1_average-all/\n"
     ]
    }
   ],
   "source": [
    "rootpath= \"/Oct-Japan/563_SENJU_Oct2018_Robin/test/norm/norm_S1/\"\n",
    "savepath=rootpath+'S1_average-all/'\n",
    "print(rootpath)\n",
    "print(savepath)"
   ]
  },
  {
   "cell_type": "code",
   "execution_count": 4,
   "metadata": {},
   "outputs": [
    {
     "name": "stdout",
     "output_type": "stream",
     "text": [
      "the number of radiographs to average= 47\n"
     ]
    }
   ],
   "source": [
    "coll_dir = fnmatch.filter(listdir(rootpath),'*')\n",
    "print('the number of radiographs to average=',len(coll_dir))\n",
    "current_dir=[]\n",
    "# savedir=savepath+'S2/'\n",
    "# print(savedir)"
   ]
  },
  {
   "cell_type": "code",
   "execution_count": 5,
   "metadata": {},
   "outputs": [
    {
     "name": "stdout",
     "output_type": "stream",
     "text": [
      "/Oct-Japan/563_SENJU_Oct2018_Robin/test/norm/norm_S1/13/\n",
      "/Oct-Japan/563_SENJU_Oct2018_Robin/test/norm/norm_S1/14/\n",
      "/Oct-Japan/563_SENJU_Oct2018_Robin/test/norm/norm_S1/15/\n",
      "/Oct-Japan/563_SENJU_Oct2018_Robin/test/norm/norm_S1/16/\n",
      "/Oct-Japan/563_SENJU_Oct2018_Robin/test/norm/norm_S1/17/\n",
      "/Oct-Japan/563_SENJU_Oct2018_Robin/test/norm/norm_S1/18/\n",
      "/Oct-Japan/563_SENJU_Oct2018_Robin/test/norm/norm_S1/19/\n",
      "/Oct-Japan/563_SENJU_Oct2018_Robin/test/norm/norm_S1/20/\n",
      "/Oct-Japan/563_SENJU_Oct2018_Robin/test/norm/norm_S1/21/\n",
      "/Oct-Japan/563_SENJU_Oct2018_Robin/test/norm/norm_S1/22/\n",
      "/Oct-Japan/563_SENJU_Oct2018_Robin/test/norm/norm_S1/23/\n",
      "/Oct-Japan/563_SENJU_Oct2018_Robin/test/norm/norm_S1/24/\n",
      "/Oct-Japan/563_SENJU_Oct2018_Robin/test/norm/norm_S1/25/\n",
      "/Oct-Japan/563_SENJU_Oct2018_Robin/test/norm/norm_S1/26/\n",
      "/Oct-Japan/563_SENJU_Oct2018_Robin/test/norm/norm_S1/27/\n",
      "/Oct-Japan/563_SENJU_Oct2018_Robin/test/norm/norm_S1/28/\n",
      "/Oct-Japan/563_SENJU_Oct2018_Robin/test/norm/norm_S1/29/\n",
      "/Oct-Japan/563_SENJU_Oct2018_Robin/test/norm/norm_S1/30/\n",
      "/Oct-Japan/563_SENJU_Oct2018_Robin/test/norm/norm_S1/31/\n",
      "/Oct-Japan/563_SENJU_Oct2018_Robin/test/norm/norm_S1/32/\n",
      "/Oct-Japan/563_SENJU_Oct2018_Robin/test/norm/norm_S1/33/\n",
      "/Oct-Japan/563_SENJU_Oct2018_Robin/test/norm/norm_S1/34/\n",
      "/Oct-Japan/563_SENJU_Oct2018_Robin/test/norm/norm_S1/35/\n",
      "/Oct-Japan/563_SENJU_Oct2018_Robin/test/norm/norm_S1/36/\n",
      "/Oct-Japan/563_SENJU_Oct2018_Robin/test/norm/norm_S1/37/\n",
      "/Oct-Japan/563_SENJU_Oct2018_Robin/test/norm/norm_S1/38/\n",
      "/Oct-Japan/563_SENJU_Oct2018_Robin/test/norm/norm_S1/39/\n",
      "/Oct-Japan/563_SENJU_Oct2018_Robin/test/norm/norm_S1/40/\n",
      "/Oct-Japan/563_SENJU_Oct2018_Robin/test/norm/norm_S1/41/\n",
      "/Oct-Japan/563_SENJU_Oct2018_Robin/test/norm/norm_S1/42/\n",
      "/Oct-Japan/563_SENJU_Oct2018_Robin/test/norm/norm_S1/43/\n",
      "/Oct-Japan/563_SENJU_Oct2018_Robin/test/norm/norm_S1/44/\n",
      "/Oct-Japan/563_SENJU_Oct2018_Robin/test/norm/norm_S1/45/\n",
      "/Oct-Japan/563_SENJU_Oct2018_Robin/test/norm/norm_S1/46/\n",
      "/Oct-Japan/563_SENJU_Oct2018_Robin/test/norm/norm_S1/47/\n",
      "/Oct-Japan/563_SENJU_Oct2018_Robin/test/norm/norm_S1/48/\n",
      "/Oct-Japan/563_SENJU_Oct2018_Robin/test/norm/norm_S1/49/\n",
      "/Oct-Japan/563_SENJU_Oct2018_Robin/test/norm/norm_S1/50/\n",
      "/Oct-Japan/563_SENJU_Oct2018_Robin/test/norm/norm_S1/51/\n",
      "/Oct-Japan/563_SENJU_Oct2018_Robin/test/norm/norm_S1/52/\n",
      "/Oct-Japan/563_SENJU_Oct2018_Robin/test/norm/norm_S1/53/\n",
      "/Oct-Japan/563_SENJU_Oct2018_Robin/test/norm/norm_S1/54/\n",
      "/Oct-Japan/563_SENJU_Oct2018_Robin/test/norm/norm_S1/55/\n",
      "/Oct-Japan/563_SENJU_Oct2018_Robin/test/norm/norm_S1/56/\n",
      "/Oct-Japan/563_SENJU_Oct2018_Robin/test/norm/norm_S1/57/\n",
      "/Oct-Japan/563_SENJU_Oct2018_Robin/test/norm/norm_S1/58/\n",
      "/Oct-Japan/563_SENJU_Oct2018_Robin/test/norm/norm_S1/59/\n"
     ]
    }
   ],
   "source": [
    "# define paths of the folders to be averaged\n",
    "\n",
    "for k in range(0, len(coll_dir)): # instead of 20 it should be len(coll_dir), number of radiographs\n",
    "    path= rootpath+coll_dir[k]+'/' # identify the path name (string)\n",
    "    print(path)\n",
    "    curr_dir = fnmatch.filter(listdir(path),'*.fits') # read fits files (list) for the first folder in the list of images (one radiograph)"
   ]
  },
  {
   "cell_type": "code",
   "execution_count": 6,
   "metadata": {},
   "outputs": [],
   "source": [
    "if not os.path.exists(savepath):\n",
    "    os.makedirs(savepath)"
   ]
  },
  {
   "cell_type": "markdown",
   "metadata": {},
   "source": [
    "## white beam so add all images at one projection and divide by the number of images to get one image for each projection"
   ]
  },
  {
   "cell_type": "code",
   "execution_count": null,
   "metadata": {},
   "outputs": [
    {
     "name": "stdout",
     "output_type": "stream",
     "text": [
      "/Oct-Japan/563_SENJU_Oct2018_Robin/test/norm/norm_S1/S1_average-all/S1_avg_img_13_2373.fits\n",
      "/Oct-Japan/563_SENJU_Oct2018_Robin/test/norm/norm_S1/S1_average-all/S1_avg_img_14_2373.fits\n",
      "/Oct-Japan/563_SENJU_Oct2018_Robin/test/norm/norm_S1/S1_average-all/S1_avg_img_15_2373.fits\n",
      "/Oct-Japan/563_SENJU_Oct2018_Robin/test/norm/norm_S1/S1_average-all/S1_avg_img_16_2373.fits\n",
      "/Oct-Japan/563_SENJU_Oct2018_Robin/test/norm/norm_S1/S1_average-all/S1_avg_img_17_2373.fits\n",
      "/Oct-Japan/563_SENJU_Oct2018_Robin/test/norm/norm_S1/S1_average-all/S1_avg_img_18_2373.fits\n",
      "/Oct-Japan/563_SENJU_Oct2018_Robin/test/norm/norm_S1/S1_average-all/S1_avg_img_19_2373.fits\n",
      "/Oct-Japan/563_SENJU_Oct2018_Robin/test/norm/norm_S1/S1_average-all/S1_avg_img_20_2373.fits\n",
      "/Oct-Japan/563_SENJU_Oct2018_Robin/test/norm/norm_S1/S1_average-all/S1_avg_img_21_2373.fits\n",
      "/Oct-Japan/563_SENJU_Oct2018_Robin/test/norm/norm_S1/S1_average-all/S1_avg_img_22_2373.fits\n",
      "/Oct-Japan/563_SENJU_Oct2018_Robin/test/norm/norm_S1/S1_average-all/S1_avg_img_23_2373.fits\n",
      "/Oct-Japan/563_SENJU_Oct2018_Robin/test/norm/norm_S1/S1_average-all/S1_avg_img_24_2373.fits\n",
      "/Oct-Japan/563_SENJU_Oct2018_Robin/test/norm/norm_S1/S1_average-all/S1_avg_img_25_2373.fits\n",
      "/Oct-Japan/563_SENJU_Oct2018_Robin/test/norm/norm_S1/S1_average-all/S1_avg_img_26_2373.fits\n",
      "/Oct-Japan/563_SENJU_Oct2018_Robin/test/norm/norm_S1/S1_average-all/S1_avg_img_27_2373.fits\n",
      "/Oct-Japan/563_SENJU_Oct2018_Robin/test/norm/norm_S1/S1_average-all/S1_avg_img_28_2373.fits\n",
      "/Oct-Japan/563_SENJU_Oct2018_Robin/test/norm/norm_S1/S1_average-all/S1_avg_img_29_2373.fits\n",
      "/Oct-Japan/563_SENJU_Oct2018_Robin/test/norm/norm_S1/S1_average-all/S1_avg_img_30_2373.fits\n",
      "/Oct-Japan/563_SENJU_Oct2018_Robin/test/norm/norm_S1/S1_average-all/S1_avg_img_31_2373.fits\n",
      "/Oct-Japan/563_SENJU_Oct2018_Robin/test/norm/norm_S1/S1_average-all/S1_avg_img_32_2373.fits\n"
     ]
    }
   ],
   "source": [
    "for i in range(0, (len(coll_dir))): #how many folders(orientation) for the directory (tomography)\n",
    "            img = np.zeros([512,512],dtype='>f4')\n",
    "            avg_img = np.zeros([512,512], dtype='>f4')\n",
    "            path= rootpath+coll_dir[i]+'/'\n",
    "            curr_dir = fnmatch.filter(listdir(path),'*.fits')\n",
    "            for j in range(0, len(curr_dir)): #475\n",
    "                name=path+curr_dir[j]\n",
    "                name_dir = name.split(\"/\")\n",
    "                name_s = name_dir[-2].split(\".\")       \n",
    "                with fits.open(name) as im:\n",
    "                    data=im[0].data\n",
    "                    img=img+data \n",
    "            avg_img= np.true_divide(img,(j+1))\n",
    "            avg_img= np.round(avg_img,7)\n",
    "            pyfits.writeto(savepath+'S1_avg_img_'+ str(name_s[0])+'_'+str(f\"{j:03}\")+'.fits', avg_img)\n",
    "#             pyfits.writeto(savepath+'S1_avg_img_'+ str(name_s[0])+'_'+str(f\"{j:03}\")+'.fits', img)\n",
    "            print(savepath+'S1_avg_img_'+ str(name_s[0])+'_'+str(f\"{j:03}\")+'.fits')"
   ]
  }
 ],
 "metadata": {
  "kernelspec": {
   "display_name": "Python 3",
   "language": "python",
   "name": "python3"
  },
  "language_info": {
   "codemirror_mode": {
    "name": "ipython",
    "version": 3
   },
   "file_extension": ".py",
   "mimetype": "text/x-python",
   "name": "python",
   "nbconvert_exporter": "python",
   "pygments_lexer": "ipython3",
   "version": "3.7.1"
  }
 },
 "nbformat": 4,
 "nbformat_minor": 2
}
